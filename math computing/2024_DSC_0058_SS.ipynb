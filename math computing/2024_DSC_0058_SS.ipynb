{
 "cells": [
  {
   "cell_type": "markdown",
   "id": "38790c14-9564-4b83-8e0a-cbf986ab91f9",
   "metadata": {},
   "source": [
    "Question five"
   ]
  },
  {
   "cell_type": "code",
   "execution_count": 1,
   "id": "e8953a49-4a19-4b2c-9a20-e21bd365b5e6",
   "metadata": {},
   "outputs": [],
   "source": [
    "import numpy as np"
   ]
  },
  {
   "cell_type": "code",
   "execution_count": 2,
   "id": "9ab8be44-f1bd-4aed-9415-816d36c31cc6",
   "metadata": {},
   "outputs": [],
   "source": [
    "import pandas as pd"
   ]
  },
  {
   "cell_type": "code",
   "execution_count": 3,
   "id": "4c57e9ab-a53c-4c0e-a925-4ebe32e2106b",
   "metadata": {},
   "outputs": [],
   "source": [
    "import matplotlib.pyplot as plt"
   ]
  },
  {
   "cell_type": "code",
   "execution_count": 4,
   "id": "ae857d00-cea7-4cc2-b6de-4875356833d1",
   "metadata": {},
   "outputs": [],
   "source": [
    "import seaborn as sns"
   ]
  },
  {
   "cell_type": "markdown",
   "id": "1cbbd7c8-15d6-42f0-9bde-4b442d9fa4d8",
   "metadata": {},
   "source": [
    "i)"
   ]
  },
  {
   "cell_type": "code",
   "execution_count": 7,
   "id": "2a861fcf-5221-4414-b45c-d64aac65b1c1",
   "metadata": {},
   "outputs": [
    {
     "data": {
      "text/plain": [
       "array([[1. , 0.2, 0.5],\n",
       "       [0.2, 1. , 0.8],\n",
       "       [0.5, 0.8, 1. ]])"
      ]
     },
     "execution_count": 7,
     "metadata": {},
     "output_type": "execute_result"
    }
   ],
   "source": [
    "matrixA = np.array([[1,0.2,0.5],[0.2,1,0.8],[0.5,0.8,1]])\n",
    "matrixA"
   ]
  },
  {
   "cell_type": "code",
   "execution_count": 8,
   "id": "e9c5b42f-69cc-4df0-b308-3ceccfe5a257",
   "metadata": {},
   "outputs": [
    {
     "data": {
      "text/plain": [
       "array([[1. , 0.2, 0.5],\n",
       "       [0.2, 1. , 0.8],\n",
       "       [0.5, 0.8, 1. ]])"
      ]
     },
     "execution_count": 8,
     "metadata": {},
     "output_type": "execute_result"
    }
   ],
   "source": [
    "matrixA = np.array([[1,0.2,0.5],[0.2,1,0.8],[0.5,0.8,1]])\n",
    "matrixA.T"
   ]
  },
  {
   "cell_type": "markdown",
   "id": "898bed18-584b-491e-b5f6-4083e2b9b76a",
   "metadata": {},
   "source": [
    "ii)"
   ]
  },
  {
   "cell_type": "code",
   "execution_count": 10,
   "id": "feb4aa95-cd67-47a6-909c-8e52a5f1d43b",
   "metadata": {},
   "outputs": [
    {
     "name": "stdout",
     "output_type": "stream",
     "text": [
      "0.2299999999999999\n"
     ]
    }
   ],
   "source": [
    "matrixA = np.array([[1,0.2,0.5],[0.2,1,0.8],[0.5,0.8,1]])\n",
    "determinant = np.linalg.det(matrixA)\n",
    "print(determinant)"
   ]
  },
  {
   "cell_type": "markdown",
   "id": "6a4df2c1-d123-4aef-ac92-289c527bc32f",
   "metadata": {},
   "source": [
    "iii)"
   ]
  },
  {
   "cell_type": "code",
   "execution_count": 23,
   "id": "56d52cba-60b3-48da-b22e-d0bf91be05b0",
   "metadata": {},
   "outputs": [
    {
     "name": "stdout",
     "output_type": "stream",
     "text": [
      "<built-in method dot of numpy.ndarray object at 0x000001F8B2D82DF0>\n"
     ]
    }
   ],
   "source": [
    "matrixA = np.array([[1,0.2,0.5],[0.2,1,0.8],[0.5,0.8,1]])\n",
    "decompose = matrixA.dot\n",
    "print(decompose)\n"
   ]
  },
  {
   "cell_type": "markdown",
   "id": "89d71ea8-b62c-4ef2-92da-9a85a18a1a68",
   "metadata": {},
   "source": [
    "iv)"
   ]
  },
  {
   "cell_type": "code",
   "execution_count": 25,
   "id": "7f2e6852-0959-48b2-9b34-05b2c8fe2fe5",
   "metadata": {},
   "outputs": [
    {
     "data": {
      "text/plain": [
       "(3, 3)"
      ]
     },
     "execution_count": 25,
     "metadata": {},
     "output_type": "execute_result"
    }
   ],
   "source": [
    "matrixA = np.array([[1,0.2,0.5],[0.2,1,0.8],[0.5,0.8,1]])\n",
    "matrixA.shape"
   ]
  },
  {
   "cell_type": "markdown",
   "id": "fc1505c8-c927-4127-9c53-e3982edc7642",
   "metadata": {},
   "source": [
    "Question six"
   ]
  },
  {
   "cell_type": "markdown",
   "id": "a58facb0-93c2-4400-90eb-0d0454deaa1d",
   "metadata": {},
   "source": [
    "i)"
   ]
  },
  {
   "cell_type": "code",
   "execution_count": 35,
   "id": "6b0caf55-c8e0-4f2e-a808-3bc57fc331e5",
   "metadata": {},
   "outputs": [],
   "source": [
    "from numpy import random\n"
   ]
  },
  {
   "cell_type": "code",
   "execution_count": 37,
   "id": "98460b08-0937-43e3-b5eb-3282ef68a343",
   "metadata": {},
   "outputs": [
    {
     "name": "stdout",
     "output_type": "stream",
     "text": [
      "[0 0 0 0 2 1 0 0 1 3 0 0 0 1 1 2 1 0 0 1 3 1 1 0 1 1 2 2 0 1 2 1 0 1 0 1 1\n",
      " 2 2 0 2 0 1 1 3 0 1 0 0 0 2 2 0 0 2 1 1 1 0 1 0 3 0 2 2 0 1 2 3 0 1 1 2 1\n",
      " 4 1 0 2 1 2 1 0 0 0 0 1 0 0 0 0 0 1 2 4 2 2 0 1 0 0 1 0 0 0 2 1 1 0 0 1 0\n",
      " 0 2 0 1 0 0 1 1 0 0 1 0 0 0 1 0 1 1 0 1 1 1 2 2 3 0 1 3 0 0 2 1 1 2 1 2 0\n",
      " 0 0 1 1 1 2 2 0 1 1 0 1 2 2 0 1 2 0 0 0 1 1 2 0 0 2 0 1 1 1 0 1 1 1 2 2 1\n",
      " 0 0 0 0 2 2 4 1 0 0 2 3 1 1 1 1 1 0 0 2 1 1 1 0 1 0 0 1 2 1 0 0 1 2 1 1 3\n",
      " 1 4 0 2 1 1 0 1 0 3 0 3 1 1 3 1 1 0 1 0 1 0 0 0 0 1 1 1 0 1 2 0 0 1 1 0 0\n",
      " 1 0 0 1 1 1 1 0 2 1 0 1 2 3 0 1 2 0 1 0 1 1 1 3 2 1 0 1 0 4 1 1 0 1 2 1 2\n",
      " 0 1 1 1 0 1 0 2 1 1 4 1 1 2 0 0 1 3 0 1 0 1 1 0 1 2 1 2 0 1 1 0 0 1 1 2 3\n",
      " 1 1 2 1 2 0 2 1 2 0 0 3 1 0 1 2 1 1 0 1 1 2 1 2 0 3 0 0 0 0 1 0 0 1 0 2 0\n",
      " 2 0 0 3 2 0 0 3 3 2 0 3 1 3 2 0 1 2 2 1 3 1 0 1 1 1 2 0 1 3 1 1 1 3 1 2 1\n",
      " 1 2 1 0 1 1 1 1 2 0 3 2 0 0 0 4 0 0 0 1 0 0 1 1 2 2 1 1 0 1 2 1 0 0 2 2 0\n",
      " 0 3 2 0 2 0 2 2 1 0 2 2 1 1 1 2 0 1 0 0 1 1 1 0 2 0 1 1 2 1 2 1 2 1 0 2 2\n",
      " 2 2 0 0 2 1 0 0 0 1 1 2 0 0 2 1 3 0 0 2 3 1 0 2 2 1 2 2 0 1 0 4 1 0 1 2 0\n",
      " 2 4 1 3 1 3 0 1 2 2 2 0 0 1 1 2 1 1 0 2 1 0 0 1 0 1 0 0 1 1 0 1 0 1 1 1 0\n",
      " 1 2 1 1 1 0 1 3 0 2 1 0 0 1 1 0 0 3 1 3 1 1 2 0 1 1 0 1 0 1 1 0 3 0 0 0 1\n",
      " 1 1 1 0 2 1 1 1 0 0 3 1 1 1 0 1 2 0 1 0 2 2 1 2 1 0 1 0 0 2 2 2 1 1 0 2 2\n",
      " 0 0 0 2 0 0 1 2 0 0 0 1 1 4 2 0 0 1 2 0 1 0 0 0 0 1 1 1 1 3 2 0 2 1 3 2 0\n",
      " 1 0 0 1 1 0 4 1 1 0 0 2 5 0 1 1 0 0 0 0 0 1 2 1 2 1 1 0 1 2 0 0 0 1 0 1 0\n",
      " 1 0 0 0 1 2 1 1 0 1 1 1 0 0 3 0 0 0 2 2 0 1 1 0 0 0 0 0 0 1 1 2 0 1 2 0 0\n",
      " 1 0 1 1 1 1 2 4 1 1 0 1 1 2 0 1 0 0 1 0 1 0 1 1 1 2 2 0 2 0 5 1 0 1 1 0 0\n",
      " 1 0 2 0 1 1 3 1 1 0 1 2 1 0 0 0 2 2 0 2 0 1 0 2 2 2 1 1 0 0 0 0 0 0 1 1 1\n",
      " 1 1 0 2 0 0 0 1 1 0 1 1 0 1 0 2 1 2 1 1 2 1 0 1 0 3 1 1 0 2 1 0 2 3 2 0 2\n",
      " 0 0 1 0 2 2 0 1 0 3 0 3 1 1 1 1 1 1 2 2 1 4 2 1 1 0 1 0 1 0 0 2 2 2 1 0 1\n",
      " 1 0 0 1 0 2 2 0 0 1 1 0 0 1 0 0 0 3 0 1 1 0 2 0 2 1 1 0 1 2 0 1 1 0 0 2 0\n",
      " 1 3 1 1 0 2 1 4 2 1 0 0 2 1 1 0 2 1 3 1 2 0 3 0 0 2 0 1 2 0 0 1 2 1 2 0 0\n",
      " 2 0 0 1 0 0 0 3 0 1 1 1 1 0 0 1 1 4 1 1 0 0 0 2 0 0 1 2 0 2 1 1 1 1 2 1 0\n",
      " 0]\n"
     ]
    }
   ],
   "source": [
    "poisson = random.poisson(size=1000)\n",
    "print(poisson)"
   ]
  },
  {
   "cell_type": "markdown",
   "id": "f05296e1-ddcf-4f63-a480-7f6c943d2e4e",
   "metadata": {},
   "source": [
    "ii)"
   ]
  },
  {
   "cell_type": "code",
   "execution_count": 39,
   "id": "5199c701-27de-4063-aa58-0d2bb7ba1cdb",
   "metadata": {},
   "outputs": [
    {
     "name": "stdout",
     "output_type": "stream",
     "text": [
      "0.957\n"
     ]
    }
   ],
   "source": [
    "poisson_mean = random.poisson(size=1000).mean()\n",
    "print(poisson_mean)"
   ]
  },
  {
   "cell_type": "code",
   "execution_count": 41,
   "id": "6d38375b-2218-4d64-8e5b-1cbcdfa1bfed",
   "metadata": {},
   "outputs": [
    {
     "ename": "AttributeError",
     "evalue": "'numpy.ndarray' object has no attribute 'variance'",
     "output_type": "error",
     "traceback": [
      "\u001b[1;31m---------------------------------------------------------------------------\u001b[0m",
      "\u001b[1;31mAttributeError\u001b[0m                            Traceback (most recent call last)",
      "Cell \u001b[1;32mIn[41], line 1\u001b[0m\n\u001b[1;32m----> 1\u001b[0m poisson_variance \u001b[38;5;241m=\u001b[39m random\u001b[38;5;241m.\u001b[39mpoisson(size\u001b[38;5;241m=\u001b[39m\u001b[38;5;241m1000\u001b[39m)\u001b[38;5;241m.\u001b[39mvariance()\n\u001b[0;32m      2\u001b[0m \u001b[38;5;28mprint\u001b[39m(poisson_variance)\n",
      "\u001b[1;31mAttributeError\u001b[0m: 'numpy.ndarray' object has no attribute 'variance'"
     ]
    }
   ],
   "source": [
    "poisson_variance = random.poisson(size=1000).variance()\n",
    "print(poisson_variance)"
   ]
  },
  {
   "cell_type": "markdown",
   "id": "96840187-03e3-4043-be09-ed127062bf91",
   "metadata": {},
   "source": [
    "iii)"
   ]
  },
  {
   "cell_type": "code",
   "execution_count": 45,
   "id": "7c80737d-0476-41ae-b71e-50a62599d1c3",
   "metadata": {},
   "outputs": [
    {
     "data": {
      "image/png": "[encoded data removed]",
      "text/plain": [
       "<Figure size 640x480 with 1 Axes>"
      ]
     },
     "metadata": {},
     "output_type": "display_data"
    }
   ],
   "source": [
    "poisson = random.poisson(size=1000)\n",
    "sns.countplot(n=5,size=1000)\n",
    "plt.title('visualization of poisson')\n",
    "plt.xlabel('size')\n",
    "plt.ylabel('number')\n",
    "plt.show()"
   ]
  },
  {
   "cell_type": "code",
   "execution_count": null,
   "id": "325f0471-6f61-4307-9002-d012fb8c06bd",
   "metadata": {},
   "outputs": [],
   "source": []
  }
 ],
 "metadata": {
  "kernelspec": {
   "display_name": "Python 3 (ipykernel)",
   "language": "python",
   "name": "python3"
  },
  "language_info": {
   "codemirror_mode": {
    "name": "ipython",
    "version": 3
   },
   "file_extension": ".py",
   "mimetype": "text/x-python",
   "name": "python",
   "nbconvert_exporter": "python",
   "pygments_lexer": "ipython3",
   "version": "3.12.4"
  }
 },
 "nbformat": 4,
 "nbformat_minor": 5
}
